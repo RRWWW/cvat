{
 "cells": [
  {
   "cell_type": "markdown",
   "metadata": {},
   "source": [
    "# installation point outline\n",
    "1. [CVAT](#install-cvat)\n",
    "    1. [local network collaboration](#export-cvat_host-url-for-local-network-collaboration)\n",
    "    1. [model deploy for semiauto annotation or automatic annotation](#nuclio-serverless-functions-to-deploy-trained-models)"
   ]
  },
  {
   "cell_type": "markdown",
   "metadata": {},
   "source": [
    "# install CVAT"
   ]
  },
  {
   "cell_type": "markdown",
   "metadata": {},
   "source": [
    "## sign up Docker\n",
    "https://www.docker.com/"
   ]
  },
  {
   "cell_type": "markdown",
   "metadata": {},
   "source": [
    "in PowerShell"
   ]
  },
  {
   "cell_type": "code",
   "execution_count": null,
   "metadata": {},
   "outputs": [],
   "source": [
    "> wsl --update"
   ]
  },
  {
   "cell_type": "markdown",
   "metadata": {},
   "source": [
    "## install Docker Desktop on Windows\n",
    "https://docs.docker.com/desktop/install/windows-install/"
   ]
  },
  {
   "cell_type": "markdown",
   "metadata": {},
   "source": [
    "## install WSL Ubuntu\n",
    "WSL(Windows Subsystem for Linux): Ubuntu 22.04"
   ]
  },
  {
   "attachments": {},
   "cell_type": "markdown",
   "metadata": {},
   "source": [
    "BIOS若沒調要調一下 才能在WIndows用虛擬機"
   ]
  },
  {
   "attachments": {},
   "cell_type": "markdown",
   "metadata": {},
   "source": [
    "https://ofeyhong.pixnet.net/blog/post/221133558?fbclid=IwAR0Tmvp6xW7i9pqB4Fe268tN6sseUccnuEVNPZY4obk1SiLNml5SuZ2Wx4Y"
   ]
  },
  {
   "cell_type": "markdown",
   "metadata": {},
   "source": [
    "```powershell\n",
    "Installing, this may take a few minutes...\n",
    "WslRegisterDistribution failed with error: 0x8007019e\n",
    "Error: 0x8007019e The Windows Subsystem for Linux has not been enabled.\n",
    "```\n",
    "\n",
    "go to Windows App to enalbe WSL\n",
    "\n",
    "![Apps_Optional features_WSL](\\img\\Apps_Optional%20features_WSL.png)"
   ]
  },
  {
   "cell_type": "markdown",
   "metadata": {},
   "source": [
    "```powershell\n",
    "Installing, this may take a few minutes...\n",
    "WslRegisterDistribution failed with error: 0x800701bc\n",
    "Error: 0x800701bc WSL 2 requires an update to its kernel component. For information please visit https://aka.ms/wsl2kernel\n",
    "```\n",
    "\n",
    "```powershell\n",
    "PS C:\\Users\\RW> wsl --set-default-version 2\n",
    "Please enable the Virtual Machine Platform Windows feature and ensure virtualization is enabled in the BIOS.\n",
    "For information please visit https://aka.ms/enablevirtualization\n",
    "```"
   ]
  },
  {
   "attachments": {},
   "cell_type": "markdown",
   "metadata": {},
   "source": [
    "WSL2 安裝錯誤 0x800701bc 與 GUI 整合初體驗"
   ]
  },
  {
   "attachments": {},
   "cell_type": "markdown",
   "metadata": {},
   "source": [
    "https://blog.darkthread.net/blog/wsl2-gui/?fbclid=IwAR15-f-XZTyv-CM5mrLKGIbPZ8UCk8DC8Z7zIoX5M2KkG0800emzOz7ZGy4"
   ]
  },
  {
   "cell_type": "markdown",
   "metadata": {},
   "source": [
    "enable Windows Update and Receive updates for other Microsoft products"
   ]
  },
  {
   "cell_type": "markdown",
   "metadata": {},
   "source": [
    "![enalbe Windows Update](\\img\\enable%20Windows%20Update.png)"
   ]
  },
  {
   "cell_type": "markdown",
   "metadata": {},
   "source": [
    "![enable Receive updates for other Microsoft products](.\\img\\enable%20Receive%20updates%20for%20other%20Microsoft%20products.png)"
   ]
  },
  {
   "attachments": {},
   "cell_type": "markdown",
   "metadata": {},
   "source": [
    "Windows Store search Ubuntu for such as Ubuntu 22.04"
   ]
  },
  {
   "cell_type": "markdown",
   "metadata": {},
   "source": [
    "## install Docker Engine on WSL Ubuntu"
   ]
  },
  {
   "attachments": {},
   "cell_type": "markdown",
   "metadata": {},
   "source": [
    "https://docs.docker.com/engine/install/ubuntu/"
   ]
  },
  {
   "cell_type": "code",
   "execution_count": null,
   "metadata": {},
   "outputs": [],
   "source": [
    "$ sudo apt-get update"
   ]
  },
  {
   "cell_type": "code",
   "execution_count": null,
   "metadata": {},
   "outputs": [],
   "source": [
    "$ sudo apt-get install \\\n",
    "    ca-certificates \\\n",
    "    curl \\\n",
    "    gnupg"
   ]
  },
  {
   "cell_type": "code",
   "execution_count": null,
   "metadata": {},
   "outputs": [],
   "source": [
    "$ sudo mkdir -m 0755 -p /etc/apt/keyrings"
   ]
  },
  {
   "cell_type": "code",
   "execution_count": null,
   "metadata": {},
   "outputs": [],
   "source": [
    "$ curl -fsSL https://download.docker.com/linux/ubuntu/gpg | sudo gpg --dearmor -o /etc/apt/keyrings/docker.gpg"
   ]
  },
  {
   "cell_type": "code",
   "execution_count": null,
   "metadata": {},
   "outputs": [],
   "source": [
    "$ echo \\\n",
    "  \"deb [arch=\"$(dpkg --print-architecture)\" signed-by=/etc/apt/keyrings/docker.gpg] https://download.docker.com/linux/ubuntu \\\n",
    "  \"$(. /etc/os-release && echo \"$VERSION_CODENAME\")\" stable\" | \\\n",
    "  sudo tee /etc/apt/sources.list.d/docker.list > /dev/null"
   ]
  },
  {
   "cell_type": "code",
   "execution_count": null,
   "metadata": {},
   "outputs": [],
   "source": [
    "$ sudo apt-get update"
   ]
  },
  {
   "cell_type": "code",
   "execution_count": null,
   "metadata": {},
   "outputs": [],
   "source": [
    "$ sudo chmod a+r /etc/apt/keyrings/docker.gpg"
   ]
  },
  {
   "cell_type": "code",
   "execution_count": null,
   "metadata": {},
   "outputs": [],
   "source": [
    "$ sudo apt-get update"
   ]
  },
  {
   "cell_type": "code",
   "execution_count": null,
   "metadata": {},
   "outputs": [],
   "source": [
    "$ sudo apt-get install docker-ce docker-ce-cli containerd.io docker-buildx-plugin docker-compose-plugin"
   ]
  },
  {
   "attachments": {},
   "cell_type": "markdown",
   "metadata": {},
   "source": [
    "https://www.docker.com/products/docker-desktop/"
   ]
  },
  {
   "attachments": {},
   "cell_type": "markdown",
   "metadata": {},
   "source": [
    "Docker Desktop > settings > resources > check additional distros such as Ubuntu 20.04 --> apply & restart Docker Desktop"
   ]
  },
  {
   "cell_type": "markdown",
   "metadata": {},
   "source": [
    "https://learn.microsoft.com/en-us/windows/wsl/install#check-which-version-of-wsl-you-are-running"
   ]
  },
  {
   "cell_type": "markdown",
   "metadata": {},
   "source": [
    "in PowerShell"
   ]
  },
  {
   "cell_type": "code",
   "execution_count": null,
   "metadata": {},
   "outputs": [],
   "source": [
    "> wsl -l -v"
   ]
  },
  {
   "cell_type": "code",
   "execution_count": null,
   "metadata": {},
   "outputs": [],
   "source": [
    "> wsl --setdefault Ubuntu-22.04"
   ]
  },
  {
   "attachments": {},
   "cell_type": "markdown",
   "metadata": {},
   "source": [
    "restart Ubuntu command line"
   ]
  },
  {
   "cell_type": "code",
   "execution_count": null,
   "metadata": {},
   "outputs": [],
   "source": [
    "# $ sudo docker run hello-world"
   ]
  },
  {
   "cell_type": "markdown",
   "metadata": {},
   "source": [
    "## install CVAT on Ubuntu"
   ]
  },
  {
   "attachments": {},
   "cell_type": "markdown",
   "metadata": {},
   "source": [
    "https://opencv.github.io/cvat/docs/administration/basics/installation/"
   ]
  },
  {
   "cell_type": "code",
   "execution_count": null,
   "metadata": {},
   "outputs": [],
   "source": [
    "$ sudo apt-get update"
   ]
  },
  {
   "cell_type": "code",
   "execution_count": null,
   "metadata": {},
   "outputs": [],
   "source": [
    "$ sudo apt-get --no-install-recommends install -y \\\n",
    "  apt-transport-https \\\n",
    "  ca-certificates \\\n",
    "  curl \\\n",
    "  gnupg-agent \\\n",
    "  software-properties-common"
   ]
  },
  {
   "cell_type": "code",
   "execution_count": null,
   "metadata": {},
   "outputs": [],
   "source": [
    "$ curl -fsSL https://download.docker.com/linux/ubuntu/gpg | sudo apt-key add -"
   ]
  },
  {
   "cell_type": "code",
   "execution_count": null,
   "metadata": {},
   "outputs": [],
   "source": [
    "$ sudo add-apt-repository \\\n",
    "  \"deb [arch=amd64] https://download.docker.com/linux/ubuntu \\\n",
    "  $(lsb_release -cs) \\\n",
    "  stable\""
   ]
  },
  {
   "cell_type": "code",
   "execution_count": null,
   "metadata": {},
   "outputs": [],
   "source": [
    "$ sudo apt-get update"
   ]
  },
  {
   "cell_type": "code",
   "execution_count": null,
   "metadata": {},
   "outputs": [],
   "source": [
    "$ sudo apt-get --no-install-recommends install -y \\\n",
    "  docker-ce docker-ce-cli containerd.io docker-compose-plugin"
   ]
  },
  {
   "cell_type": "code",
   "execution_count": null,
   "metadata": {},
   "outputs": [],
   "source": [
    "$ sudo groupadd docker"
   ]
  },
  {
   "cell_type": "code",
   "execution_count": null,
   "metadata": {},
   "outputs": [],
   "source": [
    "# $ sudo usermod -aG docker $USER"
   ]
  },
  {
   "attachments": {},
   "cell_type": "markdown",
   "metadata": {},
   "source": [
    "e.g."
   ]
  },
  {
   "cell_type": "code",
   "execution_count": null,
   "metadata": {},
   "outputs": [],
   "source": [
    "$ sudo usermod -aG docker rw"
   ]
  },
  {
   "cell_type": "markdown",
   "metadata": {},
   "source": [
    "20231011 specify version of CVAT 2.7.4"
   ]
  },
  {
   "cell_type": "code",
   "execution_count": null,
   "metadata": {},
   "outputs": [],
   "source": [
    "$ git clone -b v2.7.4 https://github.com/opencv/cvat\n",
    "\n",
    "# 20230902 latest CVAT 2.6.1\n",
    "# $ git clone -b v2.6.1 https://github.com/opencv/cvat\n",
    "# 20230327 latest CVAT 2.5.0\n",
    "# $ git clone -b v2.5.0 https://github.com/opencv/cvat"
   ]
  },
  {
   "cell_type": "markdown",
   "metadata": {},
   "source": [
    "or latest CVAT "
   ]
  },
  {
   "cell_type": "code",
   "execution_count": null,
   "metadata": {},
   "outputs": [],
   "source": [
    "# $ git clone https://github.com/opencv/cvat"
   ]
  },
  {
   "cell_type": "code",
   "execution_count": null,
   "metadata": {},
   "outputs": [],
   "source": [
    "# $ docker compose -f docker-compose.yml -f components/serverless/docker-compose.serverless.yml up -d"
   ]
  },
  {
   "cell_type": "markdown",
   "metadata": {},
   "source": [
    "```\n",
    "Docker Loign, Too Many Requests, Unauthorized: incorrect username or password\n",
    "```\n",
    "\n",
    "https://github.com/docker/hub-feedback/issues/1098\n",
    "\n",
    "I solved this issue by following.\n",
    "\n",
    "1. On Terminal : run docker logout\n",
    "2. On Browser : login into https://hub.docker.com (Login with emailid & password)\n",
    "3. On Browser : Change your current password.\n",
    "4. On Browser : Login into https://hub.docker.com (Use your docker account id (not with your email) and new password).\n",
    "5. On Terminal : run docker login (with your credential used in step 4)\n",
    "\n",
    "Thats it.. All set.. good to go !!"
   ]
  },
  {
   "cell_type": "code",
   "execution_count": null,
   "metadata": {},
   "outputs": [],
   "source": [
    "$ docker logout"
   ]
  },
  {
   "cell_type": "markdown",
   "metadata": {},
   "source": [
    "login Docker via browser with email id and change current password"
   ]
  },
  {
   "cell_type": "code",
   "execution_count": null,
   "metadata": {},
   "outputs": [],
   "source": [
    "$ docker login"
   ]
  },
  {
   "cell_type": "markdown",
   "metadata": {},
   "source": [
    "WSL root, in explorer\n",
    "\n",
    "```\n",
    "\\\\wsl$\n",
    "```"
   ]
  },
  {
   "cell_type": "markdown",
   "metadata": {},
   "source": [
    "equivalent network path `\\\\wsl.localhost\\Ubuntu-22.04`\n",
    "\n",
    "`Ubuntu-22.04\\home\\rw`"
   ]
  },
  {
   "attachments": {},
   "cell_type": "markdown",
   "metadata": {},
   "source": [
    "https://opencv.github.io/cvat/docs/administration/advanced/installation_automatic_annotation/"
   ]
  },
  {
   "cell_type": "code",
   "execution_count": null,
   "metadata": {},
   "outputs": [],
   "source": [
    "$ cd cvat"
   ]
  },
  {
   "cell_type": "markdown",
   "metadata": {},
   "source": [
    "Semi-automatic and Automatic Annotation\n",
    "\n",
    "https://opencv.github.io/cvat/docs/administration/advanced/installation_automatic_annotation/\n",
    "\n",
    "WARNING: Do not use `docker compose up` If you did, make sure all containers are stopped by `docker compose down`."
   ]
  },
  {
   "cell_type": "code",
   "execution_count": null,
   "metadata": {},
   "outputs": [],
   "source": [
    "$ docker compose -f docker-compose.yml -f components/serverless/docker-compose.serverless.yml up -d"
   ]
  },
  {
   "cell_type": "code",
   "execution_count": null,
   "metadata": {},
   "outputs": [],
   "source": [
    "$ docker compose -f cvat/docker-compose.yml -f cvat/components/serverless/docker-compose.serverless.yml up -d"
   ]
  },
  {
   "cell_type": "code",
   "execution_count": null,
   "metadata": {},
   "outputs": [],
   "source": [
    "$ sudo docker exec -it cvat_server bash -ic 'python3 ~/manage.py createsuperuser'"
   ]
  },
  {
   "attachments": {},
   "cell_type": "markdown",
   "metadata": {},
   "source": [
    "it will create superuser username and password to login CVAT as administrator"
   ]
  },
  {
   "attachments": {},
   "cell_type": "markdown",
   "metadata": {},
   "source": [
    "if installing on Windows, use command"
   ]
  },
  {
   "cell_type": "code",
   "execution_count": null,
   "metadata": {},
   "outputs": [],
   "source": [
    "# $ winpty docker exec -it cvat_server bash -ic 'python3 ~/manage.py createsuperuser'"
   ]
  },
  {
   "cell_type": "code",
   "execution_count": null,
   "metadata": {},
   "outputs": [],
   "source": [
    "# $ docker compose down"
   ]
  },
  {
   "cell_type": "markdown",
   "metadata": {},
   "source": [
    "Open Docker Windows Desktop > Settings > Resources > WSL2 choose e.g. Ubuntu 22.02 to be active"
   ]
  },
  {
   "cell_type": "markdown",
   "metadata": {},
   "source": [
    "## export CVAT_HOST URL for local network collaboration"
   ]
  },
  {
   "cell_type": "code",
   "execution_count": null,
   "metadata": {},
   "outputs": [],
   "source": [
    "# $ export CVAT_HOST=192.168.0.5 # X299X @ Hsiu-Chi\n",
    "$ export CVAT_HOST=172.16.88.177 # B450M @ NTUH"
   ]
  },
  {
   "cell_type": "code",
   "execution_count": null,
   "metadata": {},
   "outputs": [],
   "source": [
    "$ docker compose -f docker-compose.yml -f components/serverless/docker-compose.serverless.yml up -d"
   ]
  },
  {
   "cell_type": "code",
   "execution_count": null,
   "metadata": {},
   "outputs": [],
   "source": [
    "$ docker compose -f cvat/docker-compose.yml -f cvat/components/serverless/docker-compose.serverless.yml up -d"
   ]
  },
  {
   "cell_type": "markdown",
   "metadata": {},
   "source": [
    "`172.16.88.177:8080` or `{CVAT_HOST}:8080` to start CVAT in browser\n",
    "<!-- `192.168.0.7:8080` to start CVAT in browser -->"
   ]
  },
  {
   "cell_type": "markdown",
   "metadata": {},
   "source": [
    "`localhost:8080` in browser will show `404 Cannot Find` after exporting IP as CVAT_HOST"
   ]
  },
  {
   "cell_type": "markdown",
   "metadata": {},
   "source": [
    "## Nuclio: serverless functions to deploy trained models"
   ]
  },
  {
   "attachments": {},
   "cell_type": "markdown",
   "metadata": {},
   "source": [
    "Nuclio is a serverless framework to provide function as a service (FaaS) to call or trigger via HTTP"
   ]
  },
  {
   "attachments": {},
   "cell_type": "markdown",
   "metadata": {},
   "source": [
    "```yaml\n",
    "services:\n",
    "  nuclio:\n",
    "    container_name: nuclio\n",
    "    image: quay.io/nuclio/dashboard:1.8.14-amd64\n",
    "```"
   ]
  },
  {
   "attachments": {},
   "cell_type": "markdown",
   "metadata": {},
   "source": [
    "`\\\\wsl.localhost\\Ubuntu-20.04\\home\\rw\\cvat\\components\\serverless\\docker-compose.serverless.yml`"
   ]
  },
  {
   "attachments": {},
   "cell_type": "markdown",
   "metadata": {},
   "source": [
    "```bash\n",
    "$ wget https://github.com/nuclio/nuclio/releases/download/<version>/nuctl-<version>-linux-amd64\n",
    "$ sudo chmod +x nuctl-<version>-linux-amd64\n",
    "$ sudo ln -sf $(pwd)/nuctl-<version>-linux-amd64 /usr/local/bin/nuctl\n",
    "```"
   ]
  },
  {
   "cell_type": "markdown",
   "metadata": {},
   "source": [
    "e.g."
   ]
  },
  {
   "cell_type": "code",
   "execution_count": null,
   "metadata": {},
   "outputs": [],
   "source": [
    "$ wget https://github.com/nuclio/nuclio/releases/download/1.12.6/nuctl-1.12.6-linux-amd64\n",
    "# $ wget https://github.com/nuclio/nuclio/releases/download/1.12.3/nuctl-1.12.3-linux-amd64\n",
    "# $ wget https://github.com/nuclio/nuclio/releases/download/1.8.14/nuctl-1.8.14-linux-amd64"
   ]
  },
  {
   "cell_type": "code",
   "execution_count": null,
   "metadata": {},
   "outputs": [],
   "source": [
    "$ sudo chmod +x nuctl-1.12.6-linux-amd64\n",
    "# $ sudo chmod +x nuctl-1.12.3-linux-amd64\n",
    "# $ sudo chmod +x nuctl-1.8.14-linux-amd64"
   ]
  },
  {
   "cell_type": "code",
   "execution_count": null,
   "metadata": {},
   "outputs": [],
   "source": [
    "$ sudo ln -sf $(pwd)/nuctl-1.12.6-linux-amd64 /usr/local/bin/nuctl\n",
    "# $ sudo ln -sf $(pwd)/nuctl-1.12.3-linux-amd64 /usr/local/bin/nuctl\n",
    "# $ sudo ln -sf $(pwd)/nuctl-1.8.14-linux-amd64 /usr/local/bin/nuctl"
   ]
  },
  {
   "cell_type": "code",
   "execution_count": null,
   "metadata": {},
   "outputs": [],
   "source": [
    "$ nuctl create project cvat"
   ]
  },
  {
   "cell_type": "markdown",
   "metadata": {},
   "source": [
    "`172.16.88.177:8070` or `{CVAT_HOST}:8070` to see Nuclio in browser\n",
    "<!-- `192.168.0.7:8070` to see Nuclio in browser -->"
   ]
  },
  {
   "attachments": {},
   "cell_type": "markdown",
   "metadata": {},
   "source": [
    "upload images in a new task\n",
    "\n",
    "e.g. https://cocodataset.org/#download COCO2017val http://images.cocodataset.org/zips/val2017.zip"
   ]
  },
  {
   "cell_type": "markdown",
   "metadata": {},
   "source": [
    "https://github.com/opencv/cvat/issues/2189\n",
    "\n",
    "https://github.com/opencv/cvat/issues/2189#issuecomment-1028110724\n",
    "\n",
    "if not adding those two parameters to function.yml or executing the above lines, models will be broken after restarting the computer, and need to be deleted and reinstall those models\n",
    "\n",
    "```yaml\n",
    "  triggers:\n",
    "    myHttpTrigger:\n",
    "      maxWorkers: 2\n",
    "      kind: 'http'\n",
    "      workerAvailabilityTimeoutMilliseconds: 10000\n",
    "      attributes:\n",
    "        maxRequestBodySize: 33554432 # 32MB\n",
    "        ```port: 32001```\n",
    "\n",
    "  platform:\n",
    "    attributes:\n",
    "      restartPolicy:\n",
    "        name: always\n",
    "        maximumRetryCount: 3\n",
    "      mountMode: volume\n",
    "      ```network: cvat_cvat```\n",
    "```\n",
    "\n",
    "https://github.com/opencv/cvat/issues/2189#issuecomment-1055277803\n",
    "\n",
    "```bash\n",
    "# $ sudo ufw allow proto tcp from any to 192.168.0.1\n",
    "$ sudo ufw allow proto tcp from any to 172.16.0.1\n",
    "```"
   ]
  },
  {
   "cell_type": "code",
   "execution_count": null,
   "metadata": {},
   "outputs": [],
   "source": [
    "# $ sudo ufw allow proto tcp from any to 192.168.0.1\n",
    "$ sudo ufw allow proto tcp from any to 172.16.0.1"
   ]
  },
  {
   "cell_type": "code",
   "execution_count": null,
   "metadata": {},
   "outputs": [],
   "source": [
    "$ docker compose -f docker-compose.yml -f components/serverless/docker-compose.serverless.yml up -d"
   ]
  },
  {
   "cell_type": "code",
   "execution_count": null,
   "metadata": {},
   "outputs": [],
   "source": [
    "$ docker compose -f cvat/docker-compose.yml -f cvat/components/serverless/docker-compose.serverless.yml up -d"
   ]
  },
  {
   "cell_type": "markdown",
   "metadata": {},
   "source": [
    "https://superuser.com/questions/1270040/windows-10-powershell-tree-command-how-to-show-files"
   ]
  },
  {
   "cell_type": "markdown",
   "metadata": {},
   "source": [
    "```bash\n",
    "(base) PS D:\\ArkEasePro_NTUH\\Voxel51\\serverless> tree\n",
    "Folder PATH listing for volume 7.4T_RAID5_TeamGroup_MP34\n",
    "Volume serial number is 4298-4CB5\n",
    "D:.\n",
    "├───onnx\n",
    "│   └───WongKinYiu\n",
    "│       └───yolov7\n",
    "│           └───nuclio\n",
    "├───openvino\n",
    "│   ├───base\n",
    "│   ├───dextr\n",
    "│   │   └───nuclio\n",
    "│   └───omz\n",
    "│       ├───intel\n",
    "│       │   ├───face-detection-0205\n",
    "│       │   │   └───nuclio\n",
    "│       │   ├───person-reidentification-retail-0277\n",
    "│       │   │   └───nuclio\n",
    "│       │   ├───semantic-segmentation-adas-0001\n",
    "│       │   │   └───nuclio\n",
    "│       │   └───text-detection-0004\n",
    "│       │       └───nuclio\n",
    "│       └───public\n",
    "│           ├───faster_rcnn_inception_resnet_v2_atrous_coco\n",
    "│           │   └───nuclio\n",
    "│           ├───mask_rcnn_inception_resnet_v2_atrous_coco\n",
    "│           │   └───nuclio\n",
    "│           └───yolo-v3-tf\n",
    "│               └───nuclio\n",
    "├───pytorch\n",
    "│   ├───dschoerk\n",
    "│   │   └───transt\n",
    "│   │       └───nuclio\n",
    "│   ├───facebookresearch\n",
    "│   │   ├───detectron2\n",
    "│   │   │   └───retinanet_r101\n",
    "│   │   │       └───nuclio\n",
    "│   │   └───sam\n",
    "│   │       └───nuclio\n",
    "│   ├───foolwood\n",
    "│   │   └───siammask\n",
    "│   │       └───nuclio\n",
    "│   ├───saic-vul\n",
    "│   │   ├───fbrs\n",
    "│   │   │   └───nuclio\n",
    "│   │   └───hrnet\n",
    "│   │       └───nuclio\n",
    "│   └───shiyinzhang\n",
    "│       └───iog\n",
    "│           └───nuclio\n",
    "└───tensorflow\n",
    "    ├───faster_rcnn_inception_v2_coco\n",
    "    │   └───nuclio\n",
    "    └───matterport\n",
    "        └───mask_rcnn\n",
    "            └───nuclio\n",
    "```"
   ]
  },
  {
   "cell_type": "markdown",
   "metadata": {},
   "source": [
    "copy folder structure with edited yaml files in severless folder to destination, no need add port and network for each yaml files"
   ]
  },
  {
   "cell_type": "markdown",
   "metadata": {},
   "source": [
    "### deploy model list\n",
    "\n",
    "```bash\n",
    "(base) PS D:\\ArkEasePro_NTUH\\Voxel51\\serverless> tree\n",
    "Folder PATH listing for volume 7.4T_RAID5_TeamGroup_MP34\n",
    "Volume serial number is 4298-4CB5\n",
    "D:.\n",
    "├───onnx\n",
    "│   └───WongKinYiu\n",
    "│       └───yolov7 # detector, port: 32001, `./cvat/serverless/deploy_gpu.sh cvat/serverless/onnx/WongKinYiu/yolov7`, \n",
    "├───openvino\n",
    "│   ├───base\n",
    "│   ├───dextr # interactor, port: 32002, `./cvat/serverless/deploy_cpu.sh cvat/serverless/openvino/dextr`\n",
    "│   └───omz\n",
    "│       ├───intel\n",
    "│       │   ├───face-detection-0205 # detector, port: 32003, `./cvat/serverless/deploy_cpu.sh cvat/serverless/openvino/omz/intel/face-detection-0205`\n",
    "│       │   ├───person-reidentification-retail-0277 # detector, port: 32004, `./cvat/serverless/deploy_cpu.sh cvat/serverless/openvino/omz/intel/person-reidentification-retail-0277`\n",
    "│       │   ├───semantic-segmentation-adas-0001 # detector, port: 32005, `./cvat/serverless/deploy_cpu.sh cvat/serverless/openvino/omz/intel/semantic-segmentation-adas-0001`\n",
    "│       │   └───text-detection-0004 # detector, port: 32006, `./cvat/serverless/deploy_cpu.sh cvat/serverless/openvino/omz/intel/text-detection-0004`\n",
    "│       └───public\n",
    "│           ├───faster_rcnn_inception_resnet_v2_atrous_coco # detector, port: 32007, `./cvat/serverless/deploy_cpu.sh cvat/serverless/openvino/omz/public/faster_rcnn_inception_resnet_v2_atrous_coco`\n",
    "│           ├───mask_rcnn_inception_resnet_v2_atrous_coco # detector, port: 32008, `./cvat/serverless/deploy_cpu.sh cvat/serverless/openvino/omz/public/mask_rcnn_inception_resnet_v2_atrous_coco`\n",
    "│           └───yolo-v3-tf # detector, port: 32009, `./cvat/serverless/deploy_cpu.sh cvat/serverless/openvino/omz/public/yolo-v3-tf`\n",
    "├───pytorch\n",
    "│   ├───dschoerk\n",
    "│   │   └───transt # tracker, port: 32010, `baseImage: nvidia/cuda:11.7.1-devel-ubuntu20.04`, `./cvat/serverless/deploy_gpu.sh cvat/serverless/pytorch/dschoerk/transt`\n",
    "│   ├───facebookresearch\n",
    "│   │   ├───detectron2\n",
    "│   │   │   └───retinanet_r101 # detector, port: 32011, `pip install torch==1.13.0+cu117 torchvision==0.14.0+cu117 torchaudio==0.13.0 --extra-index-url https://download.pytorch.org/whl/cu117`, `./cvat/serverless/deploy_gpu.sh cvat/serverless/pytorch/facebookresearch/detectron2/retinanet_r101`\n",
    "│   │   └───sam # vit_h interactor, port: 32012, `./cvat/serverless/deploy_gpu.sh cvat/serverless/pytorch/facebookresearch/sam`\n",
    "# vit_h interactor, port: 32019, `./cvat/serverless/deploy_gpu.sh cvat/serverless/pytorch/facebookresearch/sam-vit_b`\n",
    "│   ├───foolwood\n",
    "│   │   └───siammask # tracker, port: 32013, `./cvat/serverless/deploy_gpu.sh cvat/serverless/pytorch/foolwood/siammask`\n",
    "│   ├───saic-vul\n",
    "│   │   ├───fbrs # interactor, port: 32014, `./cvat/serverless/deploy_cpu.sh cvat/serverless/pytorch/saic-vul/fbrs`\n",
    "│   │   └───hrnet # interactor, port: 32015, `./cvat/serverless/deploy_gpu.sh cvat/serverless/pytorch/saic-vul/hrnet`\n",
    "│   └───shiyinzhang\n",
    "│       └───iog # interactor, port: 32016, `./cvat/serverless/deploy_cpu.sh cvat/serverless/pytorch/shiyinzhang/iog`\n",
    "└───tensorflow\n",
    "    ├───faster_rcnn_inception_v2_coco # detector, port: 32017, `./cvat/serverless/deploy_gpu.sh cvat/serverless/tensorflow/faster_rcnn_inception_v2_coco`\n",
    "    └───matterport\n",
    "        └───mask_rcnn # detector, port: 32018, `./cvat/serverless/deploy_gpu.sh cvat/serverless/tensorflow/matterport/mask_rcnn`\n",
    "```"
   ]
  },
  {
   "cell_type": "markdown",
   "metadata": {},
   "source": [
    "### deploy Dextr interactor"
   ]
  },
  {
   "attachments": {},
   "cell_type": "markdown",
   "metadata": {},
   "source": [
    "Dextr is an interactor for CVAT to click at least 4 points to semiautomatically annotate polygon masks"
   ]
  },
  {
   "cell_type": "markdown",
   "metadata": {},
   "source": [
    "2023/07/15 use the following updated in the official manual"
   ]
  },
  {
   "cell_type": "markdown",
   "metadata": {},
   "source": [
    "WSL root, in explorer\n",
    "\n",
    "```\n",
    "\\\\wsl$\n",
    "```"
   ]
  },
  {
   "cell_type": "markdown",
   "metadata": {},
   "source": [
    "equivalent network path `\\\\wsl.localhost\\Ubuntu-22.04`\n",
    "\n",
    "`Ubuntu-22.04\\home\\rw`"
   ]
  },
  {
   "cell_type": "markdown",
   "metadata": {},
   "source": [
    "`\\\\wsl$` in explorer bar to find file quickly rather than `cd` or `ls` in Linux or Ubuntu 20.04 command line"
   ]
  },
  {
   "cell_type": "markdown",
   "metadata": {},
   "source": [
    "`\\\\wsl.localhost\\Ubuntu-20.04\\home\\rw\\cvat\\serverless\\openvino\\dextr\\nuclio\\function.yml`"
   ]
  },
  {
   "cell_type": "markdown",
   "metadata": {},
   "source": [
    "add `port: 32001` and add `network: cvat_cvat`"
   ]
  },
  {
   "cell_type": "markdown",
   "metadata": {},
   "source": [
    "```yaml\n",
    "  triggers:\n",
    "    myHttpTrigger:\n",
    "      maxWorkers: 2\n",
    "      kind: 'http'\n",
    "      workerAvailabilityTimeoutMilliseconds: 10000\n",
    "      attributes:\n",
    "        maxRequestBodySize: 33554432 # 32MB\n",
    "        port: 32001\n",
    "\n",
    "  platform:\n",
    "    attributes:\n",
    "      restartPolicy:\n",
    "        name: always\n",
    "        maximumRetryCount: 3\n",
    "      mountMode: volume\n",
    "      network: cvat_cvat\n",
    "```"
   ]
  },
  {
   "cell_type": "code",
   "execution_count": null,
   "metadata": {},
   "outputs": [],
   "source": [
    "$ ./serverless/deploy_cpu.sh serverless/openvino/dextr"
   ]
  },
  {
   "cell_type": "code",
   "execution_count": null,
   "metadata": {},
   "outputs": [],
   "source": [
    "$ ./cvat/serverless/deploy_cpu.sh cvat/serverless/openvino/dextr"
   ]
  },
  {
   "cell_type": "code",
   "execution_count": null,
   "metadata": {},
   "outputs": [],
   "source": [
    "$ nuctl deploy --project-name cvat \\\n",
    "  --path serverless/openvino/dextr/nuclio \\\n",
    "  --volume `pwd`/serverless/common:/opt/nuclio/common \\\n",
    "  --platform local"
   ]
  },
  {
   "cell_type": "markdown",
   "metadata": {},
   "source": [
    "```bash\n",
    " => ERROR [build 10/11] RUN python3 export.py /root/dextr_pascal-sbd.pth /root/dextr.onnx                         14.7s\n",
    "------\n",
    " > [build 10/11] RUN python3 export.py /root/dextr_pascal-sbd.pth /root/dextr.onnx:\n",
    "0.352 + python3 export.py /root/dextr_pascal-sbd.pth /root/dextr.onnx\n",
    "------\n",
    "Dockerfile:26\n",
    "--------------------\n",
    "  24 |     RUN patch -p1 -i adaptive-pool.patch\n",
    "  25 |\n",
    "  26 | >>> RUN python3 export.py /root/dextr_pascal-sbd.pth /root/dextr.onnx\n",
    "  27 |\n",
    "  28 |     RUN mo --input_model=/root/dextr.onnx --model_name=dextr --output_dir=/root\n",
    "--------------------\n",
    "ERROR: failed to solve: process \"/bin/bash -xo pipefail -c python3 export.py /root/dextr_pascal-sbd.pth /root/dextr.onnx\" did not complete successfully: exit code: 137\n",
    "```"
   ]
  },
  {
   "cell_type": "markdown",
   "metadata": {},
   "source": [
    "https://www.airplane.dev/blog/exit-code-137#:~:text=Exit%20code%20137%20means%20a,host%20system%20to%20become%20unstable.\n",
    "\n",
    "Exit code 137 means a container or pod is trying to use more memory than it's allowed. The process gets terminated to prevent memory usage ballooning indefinitely, which could cause your host system to become unstable."
   ]
  },
  {
   "cell_type": "markdown",
   "metadata": {},
   "source": [
    "Just restart CVAT server in Docker.\n",
    "\n",
    "And `./cvat/serverless/deploy_cpu.sh cvat/serverless/openvino/dextr` again."
   ]
  },
  {
   "cell_type": "markdown",
   "metadata": {},
   "source": [
    "### deploy YOLOv3 detector"
   ]
  },
  {
   "attachments": {},
   "cell_type": "markdown",
   "metadata": {},
   "source": [
    "YOLOv3 is a detector for CVAT to automatic annotate a full task"
   ]
  },
  {
   "attachments": {},
   "cell_type": "markdown",
   "metadata": {},
   "source": [
    "`\\\\wsl.localhost\\Ubuntu-20.04\\home\\rw\\cvat\\serverless\\openvino\\omz\\public\\yolo-v3-tf\\nuclio\\function.yml`"
   ]
  },
  {
   "attachments": {},
   "cell_type": "markdown",
   "metadata": {},
   "source": [
    "add `port: 32002` and add `network: cvat_cvat`"
   ]
  },
  {
   "attachments": {},
   "cell_type": "markdown",
   "metadata": {},
   "source": [
    "port need to be different from the already existing nuclio function(s)"
   ]
  },
  {
   "attachments": {},
   "cell_type": "markdown",
   "metadata": {},
   "source": [
    "```yaml\n",
    "  triggers:\n",
    "    myHttpTrigger:\n",
    "      maxWorkers: 2\n",
    "      kind: 'http'\n",
    "      workerAvailabilityTimeoutMilliseconds: 10000\n",
    "      attributes:\n",
    "        maxRequestBodySize: 33554432 # 32MB\n",
    "        port: 32002\n",
    "\n",
    "  platform:\n",
    "    attributes:\n",
    "      restartPolicy:\n",
    "        name: always\n",
    "        maximumRetryCount: 3\n",
    "      mountMode: volume\n",
    "      network: cvat_cvat\n",
    "```"
   ]
  },
  {
   "cell_type": "code",
   "execution_count": null,
   "metadata": {},
   "outputs": [],
   "source": [
    "$ ./serverless/deploy_cpu.sh serverless/openvino/omz/public/yolo-v3-tf"
   ]
  },
  {
   "cell_type": "code",
   "execution_count": null,
   "metadata": {},
   "outputs": [],
   "source": [
    "$ ./cvat/serverless/deploy_cpu.sh cvat/serverless/openvino/omz/public/yolo-v3-tf"
   ]
  },
  {
   "cell_type": "code",
   "execution_count": null,
   "metadata": {},
   "outputs": [],
   "source": [
    "# $ nuctl deploy --project-name cvat \\\n",
    "#   --path serverless/openvino/omz/public/yolo-v3-tf/nuclio \\\n",
    "#   --volume `pwd`/serverless/common:/opt/nuclio/common \\\n",
    "#   --platform local"
   ]
  },
  {
   "cell_type": "markdown",
   "metadata": {},
   "source": [
    "### deploy SAM interactor with GPU inference"
   ]
  },
  {
   "cell_type": "markdown",
   "metadata": {},
   "source": [
    "Meta FaceBookResearch SAM to segment anything"
   ]
  },
  {
   "cell_type": "markdown",
   "metadata": {},
   "source": [
    "`\\\\wsl.localhost\\Ubuntu-20.04\\home\\rw\\cvat\\serverless\\pytorch\\facebookresearch\\sam\\nuclio\\function-gpu.yml`"
   ]
  },
  {
   "cell_type": "markdown",
   "metadata": {},
   "source": [
    "Can we change the SAM weights?\n",
    "\n",
    "https://github.com/opencv/cvat/issues/6380\n",
    "\n",
    "You can.\n",
    "Please, refer to the original PR to get more information: [#6019](https://github.com/opencv/cvat/issues/6019)\n",
    "\n",
    "Changing model name in .yaml file is not recommended: [#6189](https://github.com/opencv/cvat/issues/6189)"
   ]
  },
  {
   "cell_type": "markdown",
   "metadata": {},
   "source": [
    "using smaller SAM or different size .pth"
   ]
  },
  {
   "cell_type": "markdown",
   "metadata": {},
   "source": [
    "   + sam_vit_b_01ec64.pth\n",
    "   + sam_vit_h_4b8939.pth\n",
    "   + sam_vit_l_0b3195.pth\n",
    "   + mobile_sam.pth"
   ]
  },
  {
   "cell_type": "markdown",
   "metadata": {},
   "source": [
    "```yaml\n",
    "metadata:\n",
    "  name: pth-facebookresearch-sam-vit-h\n",
    "  # name: pth-facebookresearch-sam-vit-b # better not change name if changing weights # https://github.com/opencv/cvat/issues/6380\n",
    "  namespace: cvat\n",
    "...\n",
    "  build:\n",
    "    # image: cvat.pth.facebookresearch.sam.vit_h\n",
    "    image: cvat.pth.facebookresearch.sam.vit_b\n",
    "    baseImage: ubuntu:22.04\n",
    "...\n",
    "      # download sam weights\n",
    "        - kind: RUN\n",
    "          # value: curl -O https://dl.fbaipublicfiles.com/segment_anything/sam_vit_h_4b8939.pth\n",
    "          value: curl -O https://dl.fbaipublicfiles.com/segment_anything/sam_vit_b_01ec64.pth\n",
    "```"
   ]
  },
  {
   "cell_type": "markdown",
   "metadata": {},
   "source": [
    "add `port: 32003` and add `network: cvat_cvat`"
   ]
  },
  {
   "cell_type": "markdown",
   "metadata": {},
   "source": [
    "```yaml\n",
    "  triggers:\n",
    "    myHttpTrigger:\n",
    "      maxWorkers: 1\n",
    "      kind: 'http'\n",
    "      workerAvailabilityTimeoutMilliseconds: 10000\n",
    "      attributes:\n",
    "        maxRequestBodySize: 33554432 # 32MB\n",
    "        port: 32012\n",
    "  resources:\n",
    "    limits:\n",
    "      nvidia.com/gpu: 1\n",
    "\n",
    "  platform:\n",
    "    attributes:\n",
    "      restartPolicy:\n",
    "        name: always\n",
    "        maximumRetryCount: 3\n",
    "      mountMode: volume\n",
    "      network: cvat_cvat\n",
    "```"
   ]
  },
  {
   "cell_type": "code",
   "execution_count": null,
   "metadata": {},
   "outputs": [],
   "source": [
    "$ ./cvat/serverless/deploy_gpu.sh cvat/serverless/pytorch/facebookresearch/sam\n",
    "\n",
    "# $ cd cvat\n",
    "# $ ./serverless/deploy_gpu.sh serverless/pytorch/facebookresearch/sam\n",
    "\n",
    "# or \n",
    "# $ cd cvat\n",
    "# $ ./serverless/deploy_gpu.sh serverless/pytorch/facebookresearch/sam/nuclio\n",
    "\n",
    "# or\n",
    "# $ cd cvat\n",
    "# $ cd serverless\n",
    "# $ ./deploy_gpu.sh pytorch/facebookresearch/sam/nuclio"
   ]
  },
  {
   "cell_type": "markdown",
   "metadata": {},
   "source": [
    "```bash\n",
    "#9 ERROR: process \"/bin/sh -c pip3 install torch torchvision torchaudio opencv-python pycocotools matplotlib onnxruntime onnx\" did not complete successfully: exit code: 137\n",
    "------\n",
    " > [ 4/13] RUN pip3 install torch torchvision torchaudio opencv-python pycocotools matplotlib onnxruntime onnx:\n",
    "11.33 Collecting torch\n",
    "11.33   Downloading torch-2.1.0-cp310-cp310-manylinux1_x86_64.whl (670.2 MB)\n",
    "3751.9 Killed\n",
    "------\n",
    "Dockerfile.processor:28\n",
    "--------------------\n",
    "  26 |     RUN apt-get update && apt-get -y install curl git python3 python3-pip ffmpeg libsm6 libxext6\n",
    "  27 |\n",
    "  28 | >>> RUN pip3 install torch torchvision torchaudio opencv-python pycocotools matplotlib onnxruntime onnx\n",
    "  29 |\n",
    "  30 |     RUN pip3 install git+https://github.com/facebookresearch/segment-anything.git\n",
    "--------------------\n",
    "ERROR: failed to solve: process \"/bin/sh -c pip3 install torch torchvision torchaudio opencv-python pycocotools matplotlib onnxruntime onnx\" did not complete successfully: exit code: 137\n",
    "\n",
    "    /nuclio/pkg/cmdrunner/shellrunner.go:114\n",
    "Failed to build\n",
    "    /nuclio/pkg/dockerclient/shell.go:119\n",
    "Failed to build docker image\n",
    "    .../pkg/containerimagebuilderpusher/docker.go:70\n",
    "Failed to build processor image\n",
    "    /nuclio/pkg/processor/build/builder.go:264\n",
    "Failed to deploy function\n",
    "    ...//nuclio/pkg/platform/abstract/platform.go:227\n",
    "```"
   ]
  },
  {
   "cell_type": "markdown",
   "metadata": {},
   "source": [
    "Perhaps no more the following problem in CVAT 2.7.4, it is Ok to use serverless function remotely:\n",
    "\n",
    "However, only the localhost or local machine can use SAM locally, but the remote machine cannot\n",
    "\n",
    "```\n",
    "Interaction error occurred\n",
    "Request failed with status code 500. \n",
    "\"500 Server Error. Internal Server Error for url:\n",
    "http://host.docker.internal:32003/\".\n",
    "```"
   ]
  },
  {
   "cell_type": "markdown",
   "metadata": {},
   "source": [
    "#### if CUDA version not the same in Windows & WSL"
   ]
  },
  {
   "attachments": {},
   "cell_type": "markdown",
   "metadata": {},
   "source": [
    "https://opencv.github.io/cvat/docs/manual/advanced/models/"
   ]
  },
  {
   "cell_type": "markdown",
   "metadata": {},
   "source": [
    "```bash\n",
    " > [ 4/13] RUN pip3 install torch torchvision torchaudio opencv-python pycocotools matplotlib onnxruntime onnx:\n",
    "48.61     for chunk in response.raw.stream(\n",
    "48.61   File \"/usr/lib/python3/dist-packages/pip/_vendor/urllib3/response.py\", line 576, in stream\n",
    "48.61     data = self.read(amt=amt, decode_content=decode_content)\n",
    "48.61   File \"/usr/lib/python3/dist-packages/pip/_vendor/urllib3/response.py\", line 512, in read\n",
    "48.61     with self._error_catcher():\n",
    "48.61   File \"/usr/lib/python3.10/contextlib.py\", line 153, in __exit__\n",
    "48.61     self.gen.throw(typ, value, traceback)\n",
    "48.61   File \"/usr/lib/python3/dist-packages/pip/_vendor/urllib3/response.py\", line 443, in _error_catcher\n",
    "48.61     raise ReadTimeoutError(self._pool, None, \"Read timed out.\")\n",
    "48.61 pip._vendor.urllib3.exceptions.ReadTimeoutError: HTTPSConnectionPool(host='files.pythonhosted.org', port=443): Read timed out.\n",
    "------\n",
    "Dockerfile.processor:28\n",
    "--------------------\n",
    "  26 |     RUN apt-get update && apt-get -y install curl git python3 python3-pip ffmpeg libsm6 libxext6\n",
    "  27 |\n",
    "  28 | >>> RUN pip3 install torch torchvision torchaudio opencv-python pycocotools matplotlib onnxruntime onnx\n",
    "  29 |\n",
    "  30 |     RUN pip3 install git+https://github.com/facebookresearch/segment-anything.git\n",
    "--------------------\n",
    "ERROR: failed to solve: process \"/bin/sh -c pip3 install torch torchvision torchaudio opencv-python pycocotools matplotlib onnxruntime onnx\" did not complete successfully: exit code: 2\n",
    "\n",
    "    /nuclio/pkg/cmdrunner/shellrunner.go:114\n",
    "Failed to build\n",
    "    /nuclio/pkg/dockerclient/shell.go:116\n",
    "Failed to build docker image\n",
    "    .../pkg/containerimagebuilderpusher/docker.go:70\n",
    "Failed to build processor image\n",
    "    /nuclio/pkg/processor/build/builder.go:264\n",
    "Failed to deploy function\n",
    "    ...//nuclio/pkg/platform/abstract/platform.go:227\n",
    "```"
   ]
  },
  {
   "cell_type": "markdown",
   "metadata": {},
   "source": [
    "https://stackoverflow.com/questions/76145112/error-failed-to-solve-process-bin-sh-c-pip3-install-r-requirements-txt-di\n",
    "\n",
    "Usually, issue comes from incorrect library spelling, version or library downloading issue. check for docker logs will help in this case."
   ]
  },
  {
   "cell_type": "markdown",
   "metadata": {},
   "source": [
    "in our case: it's because CUDA-11.7 installed on WSL Ubuntu 22.04, but CUDA-11.6 installed on Windows 11\n",
    "\n",
    "so make CUDA-11.7 installed on Windows 11 to let WSL and Windows have the same CUDA version to fix it"
   ]
  },
  {
   "cell_type": "markdown",
   "metadata": {},
   "source": [
    "#### Using smaller SAM model"
   ]
  },
  {
   "cell_type": "markdown",
   "metadata": {},
   "source": [
    "It took 3 hours to download SAM.VIT_h model .pth"
   ]
  },
  {
   "cell_type": "markdown",
   "metadata": {},
   "source": [
    "```bash\n",
    "(base) rw@DESKTOP-UO85VI6:~$ cd cvat\n",
    "(base) rw@DESKTOP-UO85VI6:~/cvat$ ./serverless/deploy_gpu.sh serverless/pytorch/facebookresearch/sam\n",
    "23.10.11 20:41:09.488                     nuctl (I) Project created {\"Name\": \"cvat\", \"Namespace\": \"nuclio\"}\n",
    "Deploying pytorch/facebookresearch/sam function...\n",
    "23.10.11 20:41:09.898                     nuctl (I) Deploying function {\"name\": \"pth-facebookresearch-sam-vit-h\"}\n",
    "23.10.11 20:41:09.898                     nuctl (I) Building {\"builderKind\": \"docker\", \"versionInfo\": \"Label: 1.12.3, Git commit: ca91cb47892047c01eda254df90a85b8e5ddcb56, OS: linux, Arch: amd64, Go version: go1.19.10\", \"name\": \"pth-facebookresearch-sam-vit-h\"}\n",
    "23.10.11 20:41:10.103                     nuctl (I) Staging files and preparing base images\n",
    "23.10.11 20:41:10.104                     nuctl (I) Building processor image {\"registryURL\": \"\", \"taggedImageName\": \"cvat.pth.facebookresearch.sam.vit_h:latest\"}\n",
    "23.10.11 20:41:10.104     nuctl.platform.docker (I) Pulling image {\"imageName\": \"quay.io/nuclio/handler-builder-python-onbuild:1.12.3-amd64\"}\n",
    "23.10.11 20:41:15.530     nuctl.platform.docker (I) Pulling image {\"imageName\": \"quay.io/nuclio/uhttpc:0.0.1-amd64\"}\n",
    "23.10.11 20:41:22.386            nuctl.platform (I) Building docker image {\"image\": \"cvat.pth.facebookresearch.sam.vit_h:latest\"}\n",
    "23.10.11 23:51:29.436            nuctl.platform (I) Pushing docker image into registry {\"image\": \"cvat.pth.facebookresearch.sam.vit_h:latest\", \"registry\": \"\"}\n",
    "23.10.11 23:51:29.436            nuctl.platform (I) Docker image was successfully built and pushed into docker registry {\"image\": \"cvat.pth.facebookresearch.sam.vit_h:latest\"}\n",
    "23.10.11 23:51:29.436                     nuctl (I) Build complete {\"image\": \"cvat.pth.facebookresearch.sam.vit_h:latest\"}\n",
    "23.10.11 23:51:29.443                     nuctl (I) Cleaning up before deployment {\"functionName\": \"pth-facebookresearch-sam-vit-h\"}\n",
    "23.10.11 23:51:31.376            nuctl.platform (I) Waiting for function to be ready {\"timeout\": 120}\n",
    "23.10.11 23:51:33.465                     nuctl (I) Function deploy complete {\"functionName\": \"pth-facebookresearch-sam-vit-h\", \"httpPort\": 32003, \"internalInvocationURLs\": [\"172.18.0.21:8080\"], \"externalInvocationURLs\": [\"0.0.0.0:32003\"]}\n",
    " NAMESPACE | NAME                           | PROJECT | STATE | REPLICAS | NODE PORT\n",
    " nuclio    | openvino-dextr                 | cvat    | ready | 1/1      | 32001\n",
    " nuclio    | openvino-omz-public-yolo-v3-tf | cvat    | ready | 1/1      | 32002\n",
    " nuclio    | pth-facebookresearch-sam-vit-h | cvat    | ready | 1/1      | 32003\n",
    "```"
   ]
  },
  {
   "cell_type": "markdown",
   "metadata": {},
   "source": [
    "https://github.com/opencv/cvat/issues/6061\n",
    "\n",
    "The steps that I've done are the following ones:\n",
    "\n",
    "1. Open the page [Model request] Meta's SegmentAnything Model (SAM) huggingface/transformers#22592\n",
    "\n",
    "2. In this page, you'll find the SAM B model (vit_h). It is the lighter version.\n",
    "\n",
    "3. Copy the link of ViT-B SAM model\n",
    "\n",
    "4. Go to CVAT/serverless/pytorch/facebooksearch/sam/nuclio, you'll find these files\n",
    "\n",
    "5. Modify function-gpu.yaml\n",
    "\n",
    "    Paste the link copied in the step 3\n",
    "\n",
    "    Replace vit_h with vit_h\n",
    "\n",
    "    Replace vit-h with vit-b\n",
    "\n",
    "    replace value: curl -O https://dl.fbaipublicfiles.com/segment_anything/sam_vit_h_4b8939.pth\n",
    "\n",
    "    with sam_vit_b_01ec64.pth\n",
    "    \n",
    "    P.S:I'm not sure if the last 2 changes were necessary.\n",
    "\n",
    "6. Modify model_handler.py\n",
    "\n",
    "    Precisely, modify self.sam_checkpoint and self.model_type. The sam_checkpoint name is the filename of the weights downloaded in the step 3.\n",
    "\n",
    "7. After executing the command sudo ./deploy_gpu.sh pytorch/facebookresearch/sam/nuclio/ in the cvat/serverless folder, it can appear this table\n",
    "\n",
    "8. Once opened CVAT on browser, be sure to select the right model according to the table of the step 7"
   ]
  },
  {
   "cell_type": "markdown",
   "metadata": {},
   "source": [
    "https://stackoverflow.com/questions/67425618/incrementing-gb-of-ram-for-docker-container-in-windows\n",
    "\n",
    "`C:\\Users\\{username}\\.wslconfig` file\n",
    "\n",
    "```\n",
    "[wsl2]\n",
    "memory=16GB # Limits VM memory\n",
    "```"
   ]
  },
  {
   "cell_type": "markdown",
   "metadata": {},
   "source": [
    "### deploy YOLOv7 detector"
   ]
  },
  {
   "cell_type": "markdown",
   "metadata": {},
   "source": [
    "port: 32004"
   ]
  },
  {
   "cell_type": "code",
   "execution_count": null,
   "metadata": {},
   "outputs": [],
   "source": [
    "$ ./cvat/serverless/deploy_gpu.sh cvat/serverless/onnx/WongKinYiu/yolov7"
   ]
  },
  {
   "cell_type": "markdown",
   "metadata": {},
   "source": [
    "![YOLOv7notApply2taskButImage](img\\YOLOv7notApply2taskButImage.png)"
   ]
  },
  {
   "cell_type": "markdown",
   "metadata": {},
   "source": [
    "```bash\n",
    "Error - exit status 125\n",
    "    /nuclio/pkg/cmdrunner/shellrunner.go:114\n",
    "\n",
    "Call stack:\n",
    "stdout:\n",
    "26fac9160f148740f082a57a6986ba317e3696582636e56e8c7d320f4615eaf4\n",
    "docker: Error response from daemon: failed to create task for container: failed to create shim task: OCI runtime create failed: runc create failed: unable to start container process: error during container init: error running hook #0: error running hook: exit status 1, stdout: , stderr: Auto-detected mode as 'legacy'\n",
    "nvidia-container-cli: requirement error: unsatisfied condition: cuda>=12.2, please update your driver to a newer version, or use an earlier cuda container: unknown.\n",
    "\n",
    "stderr:\n",
    "\n",
    "    /nuclio/pkg/cmdrunner/shellrunner.go:114\n",
    "Failed to run a Docker container\n",
    "    /nuclio/pkg/platform/local/platform.go:987\n",
    "Failed to deploy function\n",
    "    ...//nuclio/pkg/platform/abstract/platform.go:227\n",
    "```"
   ]
  },
  {
   "cell_type": "markdown",
   "metadata": {},
   "source": [
    "https://blog.csdn.net/qq_44817900/article/details/125404478"
   ]
  },
  {
   "cell_type": "code",
   "execution_count": null,
   "metadata": {},
   "outputs": [],
   "source": [
    "> nvidia-smi -a"
   ]
  },
  {
   "cell_type": "markdown",
   "metadata": {},
   "source": [
    "![nvidia-smi_persistent mode](\\img\\nvidia-smi_persistent%20mode%20status.png)"
   ]
  },
  {
   "cell_type": "code",
   "execution_count": null,
   "metadata": {},
   "outputs": [],
   "source": [
    "> nvidia-smi -pm ENABLED"
   ]
  },
  {
   "cell_type": "markdown",
   "metadata": {},
   "source": [
    "### deploy TensorFlow Faster R-CNN detector"
   ]
  },
  {
   "cell_type": "code",
   "execution_count": null,
   "metadata": {},
   "outputs": [],
   "source": [
    "$ ./cvat/serverless/deploy_gpu.sh cvat/serverless/tensorflow/faster_rcnn_inception_v2_coco"
   ]
  },
  {
   "cell_type": "markdown",
   "metadata": {},
   "source": [
    "```bash\n",
    "Detection error occurred\n",
    "Request failed with status code 500. \"500 Server Error: Internal Server Error for url: http://host.docker.internal:32005/\".\n",
    "```"
   ]
  },
  {
   "cell_type": "markdown",
   "metadata": {},
   "source": [
    "### deploy TensorFlow Mask R-CNN detector"
   ]
  },
  {
   "cell_type": "markdown",
   "metadata": {},
   "source": [
    "https://github.com/opencv/cvat/issues/4707"
   ]
  },
  {
   "cell_type": "markdown",
   "metadata": {},
   "source": [
    "https://github.com/opencv/cvat/issues/4707#issuecomment-1283673464\n",
    "\n",
    "I modify `serverless/tensorflow/matterport/mask_rcnn/nuclio/function.yaml`\n",
    "not `function-gpu.yaml`\n",
    "add `apt-key del 7fa2af80 && apt-key adv --fetch-keys http://developer.download.nvidia.com/compute/cuda/repos/ubuntu1604/x86_64/3bf863cc.pub`\n",
    "\n",
    "that can build successfully\n",
    "\n",
    "```yaml\n",
    "postCopy:\n",
    "        - kind: WORKDIR\n",
    "          value: /opt/nuclio\n",
    "        - kind: RUN\n",
    "          value: apt-key del 7fa2af80 && apt-key adv --fetch-keys http://developer.download.nvidia.com/compute/cuda/repos/ubuntu1604/x86_64/3bf863cc.pub && apt update && apt install --no-install-recommends -y git curl\n",
    "        - kind: RUN\n",
    "          value: git clone --depth 1 https://github.com/matterport/Mask_RCNN.git\n",
    "        - kind: RUN\n",
    "          value: curl -L https://github.com/matterport/Mask_RCNN/releases/download/v2.0/mask_rcnn_coco.h5 -o Mask_RCNN/mask_rcnn_coco.h5\n",
    "        - kind: RUN\n",
    "          value: pip3 install numpy cython pyyaml keras==2.1.0 scikit-image 'imageio<=2.9.0' Pillow\n",
    "```"
   ]
  },
  {
   "cell_type": "markdown",
   "metadata": {},
   "source": [
    "https://github.com/opencv/cvat/issues/877"
   ]
  },
  {
   "cell_type": "markdown",
   "metadata": {},
   "source": [
    "https://github.com/opencv/cvat/pull/1767"
   ]
  },
  {
   "cell_type": "markdown",
   "metadata": {},
   "source": [
    "### deploy PyTorch dschoerk TransT tracker"
   ]
  },
  {
   "cell_type": "markdown",
   "metadata": {},
   "source": [
    "`# baseImage: nvidia/cuda:11.7.0-devel-ubuntu20.04`\n",
    "\n",
    "baseImage: nvidia/cuda:11.7.1-devel-ubuntu20.04"
   ]
  },
  {
   "cell_type": "code",
   "execution_count": null,
   "metadata": {},
   "outputs": [],
   "source": [
    "$ ./cvat/serverless/deploy_gpu.sh cvat/serverless/pytorch/dschoerk/transt"
   ]
  },
  {
   "cell_type": "markdown",
   "metadata": {},
   "source": [
    "### deploy our own models"
   ]
  },
  {
   "attachments": {},
   "cell_type": "markdown",
   "metadata": {},
   "source": [
    "if wanting to deploy our own models, should check the following complete tutorial"
   ]
  },
  {
   "attachments": {},
   "cell_type": "markdown",
   "metadata": {},
   "source": [
    "https://opencv.github.io/cvat/docs/manual/advanced/serverless-tutorial/"
   ]
  }
 ],
 "metadata": {
  "language_info": {
   "name": "python"
  },
  "orig_nbformat": 4
 },
 "nbformat": 4,
 "nbformat_minor": 2
}
