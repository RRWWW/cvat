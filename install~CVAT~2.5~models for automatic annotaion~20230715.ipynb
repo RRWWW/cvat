{
 "cells": [
  {
   "attachments": {},
   "cell_type": "markdown",
   "metadata": {},
   "source": [
    "Windows Store search Ubuntu for such as Ubuntu 20.04"
   ]
  },
  {
   "attachments": {},
   "cell_type": "markdown",
   "metadata": {},
   "source": [
    "https://docs.docker.com/engine/install/ubuntu/"
   ]
  },
  {
   "cell_type": "code",
   "execution_count": null,
   "metadata": {},
   "outputs": [],
   "source": [
    "$ sudo apt-get update"
   ]
  },
  {
   "cell_type": "code",
   "execution_count": null,
   "metadata": {},
   "outputs": [],
   "source": [
    "$ sudo apt-get install \\\n",
    "    ca-certificates \\\n",
    "    curl \\\n",
    "    gnupg"
   ]
  },
  {
   "cell_type": "code",
   "execution_count": null,
   "metadata": {},
   "outputs": [],
   "source": [
    "$ sudo mkdir -m 0755 -p /etc/apt/keyrings"
   ]
  },
  {
   "cell_type": "code",
   "execution_count": null,
   "metadata": {},
   "outputs": [],
   "source": [
    "$ curl -fsSL https://download.docker.com/linux/ubuntu/gpg | sudo gpg --dearmor -o /etc/apt/keyrings/docker.gpg"
   ]
  },
  {
   "cell_type": "code",
   "execution_count": null,
   "metadata": {},
   "outputs": [],
   "source": [
    "$ echo \\\n",
    "  \"deb [arch=\"$(dpkg --print-architecture)\" signed-by=/etc/apt/keyrings/docker.gpg] https://download.docker.com/linux/ubuntu \\\n",
    "  \"$(. /etc/os-release && echo \"$VERSION_CODENAME\")\" stable\" | \\\n",
    "  sudo tee /etc/apt/sources.list.d/docker.list > /dev/null"
   ]
  },
  {
   "cell_type": "code",
   "execution_count": null,
   "metadata": {},
   "outputs": [],
   "source": [
    "$ sudo apt-get update"
   ]
  },
  {
   "cell_type": "code",
   "execution_count": null,
   "metadata": {},
   "outputs": [],
   "source": [
    "$ sudo chmod a+r /etc/apt/keyrings/docker.gpg"
   ]
  },
  {
   "cell_type": "code",
   "execution_count": null,
   "metadata": {},
   "outputs": [],
   "source": [
    "$ sudo apt-get update"
   ]
  },
  {
   "cell_type": "code",
   "execution_count": null,
   "metadata": {},
   "outputs": [],
   "source": [
    "$ sudo apt-get install docker-ce docker-ce-cli containerd.io docker-buildx-plugin docker-compose-plugin"
   ]
  },
  {
   "attachments": {},
   "cell_type": "markdown",
   "metadata": {},
   "source": [
    "BIOS若沒調要調一下 才能在WIndows用虛擬機"
   ]
  },
  {
   "attachments": {},
   "cell_type": "markdown",
   "metadata": {},
   "source": [
    "https://ofeyhong.pixnet.net/blog/post/221133558?fbclid=IwAR0Tmvp6xW7i9pqB4Fe268tN6sseUccnuEVNPZY4obk1SiLNml5SuZ2Wx4Y"
   ]
  },
  {
   "attachments": {},
   "cell_type": "markdown",
   "metadata": {},
   "source": [
    "WSL2 安裝錯誤 0x800701bc 與 GUI 整合初體驗"
   ]
  },
  {
   "attachments": {},
   "cell_type": "markdown",
   "metadata": {},
   "source": [
    "https://blog.darkthread.net/blog/wsl2-gui/?fbclid=IwAR15-f-XZTyv-CM5mrLKGIbPZ8UCk8DC8Z7zIoX5M2KkG0800emzOz7ZGy4"
   ]
  },
  {
   "attachments": {},
   "cell_type": "markdown",
   "metadata": {},
   "source": [
    "https://www.docker.com/products/docker-desktop/"
   ]
  },
  {
   "attachments": {},
   "cell_type": "markdown",
   "metadata": {},
   "source": [
    "Docker Desktop > settings > resources > check additional distros such as Ubuntu 20.04 --> apply & restart Docker Desktop"
   ]
  },
  {
   "attachments": {},
   "cell_type": "markdown",
   "metadata": {},
   "source": [
    "restart Ubuntu 20.04 command line"
   ]
  },
  {
   "cell_type": "code",
   "execution_count": null,
   "metadata": {},
   "outputs": [],
   "source": [
    "$ sudo docker run hello-world"
   ]
  },
  {
   "attachments": {},
   "cell_type": "markdown",
   "metadata": {},
   "source": [
    "https://opencv.github.io/cvat/docs/administration/basics/installation/"
   ]
  },
  {
   "cell_type": "code",
   "execution_count": null,
   "metadata": {},
   "outputs": [],
   "source": [
    "$ sudo apt-get update"
   ]
  },
  {
   "cell_type": "code",
   "execution_count": null,
   "metadata": {},
   "outputs": [],
   "source": [
    "$ sudo apt-get --no-install-recommends install -y \\\n",
    "  apt-transport-https \\\n",
    "  ca-certificates \\\n",
    "  curl \\\n",
    "  gnupg-agent \\\n",
    "  software-properties-common"
   ]
  },
  {
   "cell_type": "code",
   "execution_count": null,
   "metadata": {},
   "outputs": [],
   "source": [
    "$ curl -fsSL https://download.docker.com/linux/ubuntu/gpg | sudo apt-key add -"
   ]
  },
  {
   "cell_type": "code",
   "execution_count": null,
   "metadata": {},
   "outputs": [],
   "source": [
    "$ sudo add-apt-repository \\\n",
    "  \"deb [arch=amd64] https://download.docker.com/linux/ubuntu \\\n",
    "  $(lsb_release -cs) \\\n",
    "  stable\""
   ]
  },
  {
   "cell_type": "code",
   "execution_count": null,
   "metadata": {},
   "outputs": [],
   "source": [
    "$ sudo apt-get update"
   ]
  },
  {
   "cell_type": "code",
   "execution_count": null,
   "metadata": {},
   "outputs": [],
   "source": [
    "$ sudo apt-get --no-install-recommends install -y \\\n",
    "  docker-ce docker-ce-cli containerd.io docker-compose-plugin"
   ]
  },
  {
   "cell_type": "code",
   "execution_count": null,
   "metadata": {},
   "outputs": [],
   "source": [
    "$ sudo groupadd docker"
   ]
  },
  {
   "cell_type": "code",
   "execution_count": null,
   "metadata": {},
   "outputs": [],
   "source": [
    "$ sudo usermod -aG docker $USER"
   ]
  },
  {
   "attachments": {},
   "cell_type": "markdown",
   "metadata": {},
   "source": [
    "e.g."
   ]
  },
  {
   "cell_type": "code",
   "execution_count": null,
   "metadata": {},
   "outputs": [],
   "source": [
    "$ sudo usermod -aG docker rw"
   ]
  },
  {
   "cell_type": "code",
   "execution_count": null,
   "metadata": {},
   "outputs": [],
   "source": [
    "$ git clone https://github.com/opencv/cvat"
   ]
  },
  {
   "attachments": {},
   "cell_type": "markdown",
   "metadata": {},
   "source": [
    "20230327 latest CVAT 2.5"
   ]
  },
  {
   "cell_type": "code",
   "execution_count": null,
   "metadata": {},
   "outputs": [],
   "source": [
    "$ git clone -b v2.5.0 https://github.com/opencv/cvat"
   ]
  },
  {
   "attachments": {},
   "cell_type": "markdown",
   "metadata": {},
   "source": [
    "or specify version of CVAT"
   ]
  },
  {
   "cell_type": "code",
   "execution_count": null,
   "metadata": {},
   "outputs": [],
   "source": [
    "$ git clone -b v2.3.0 https://github.com/opencv/cvat"
   ]
  },
  {
   "cell_type": "code",
   "execution_count": null,
   "metadata": {},
   "outputs": [],
   "source": [
    "$ cd cvat"
   ]
  },
  {
   "cell_type": "code",
   "execution_count": null,
   "metadata": {},
   "outputs": [],
   "source": [
    "# $ export CVAT_HOST=192.168.0.10\n",
    "$ export CVAT_HOST=192.168.0.7"
   ]
  },
  {
   "attachments": {},
   "cell_type": "markdown",
   "metadata": {},
   "source": [
    "https://opencv.github.io/cvat/docs/administration/advanced/installation_automatic_annotation/"
   ]
  },
  {
   "cell_type": "code",
   "execution_count": null,
   "metadata": {},
   "outputs": [],
   "source": [
    "$ docker compose -f docker-compose.yml -f components/serverless/docker-compose.serverless.yml up -d"
   ]
  },
  {
   "cell_type": "code",
   "execution_count": null,
   "metadata": {},
   "outputs": [],
   "source": [
    "$ sudo docker exec -it cvat_server bash -ic 'python3 ~/manage.py createsuperuser'"
   ]
  },
  {
   "attachments": {},
   "cell_type": "markdown",
   "metadata": {},
   "source": [
    "it will create superuser username and password to login CVAT as administrator"
   ]
  },
  {
   "attachments": {},
   "cell_type": "markdown",
   "metadata": {},
   "source": [
    "if installing on Windows, use command"
   ]
  },
  {
   "cell_type": "code",
   "execution_count": null,
   "metadata": {},
   "outputs": [],
   "source": [
    "$ winpty docker exec -it cvat_server bash -ic 'python3 ~/manage.py createsuperuser'"
   ]
  },
  {
   "cell_type": "code",
   "execution_count": null,
   "metadata": {},
   "outputs": [],
   "source": [
    "$ docker compose -f docker-compose.yml -f components/serverless/docker-compose.serverless.yml up -d"
   ]
  },
  {
   "cell_type": "markdown",
   "metadata": {},
   "source": [
    "`192.168.0.7:8080` to start CVAT in browser"
   ]
  },
  {
   "attachments": {},
   "cell_type": "markdown",
   "metadata": {},
   "source": [
    "Nuclio is a serverless framework to provide function as a service (FaaS) to call or trigger via HTTP"
   ]
  },
  {
   "attachments": {},
   "cell_type": "markdown",
   "metadata": {},
   "source": [
    "```\n",
    "services:\n",
    "  nuclio:\n",
    "    container_name: nuclio\n",
    "    image: quay.io/nuclio/dashboard:1.8.14-amd64\n",
    "```"
   ]
  },
  {
   "attachments": {},
   "cell_type": "markdown",
   "metadata": {},
   "source": [
    "\\\\wsl.localhost\\Ubuntu-20.04\\home\\rw\\cvat\\components\\serverless\\docker-compose.serverless.yml"
   ]
  },
  {
   "attachments": {},
   "cell_type": "markdown",
   "metadata": {},
   "source": [
    "```\n",
    "$ wget https://github.com/nuclio/nuclio/releases/download/<version>/nuctl-<version>-linux-amd64\n",
    "$ sudo chmod +x nuctl-<version>-linux-amd64\n",
    "$ sudo ln -sf $(pwd)/nuctl-<version>-linux-amd64 /usr/local/bin/nuctl\n",
    "```"
   ]
  },
  {
   "attachments": {},
   "cell_type": "markdown",
   "metadata": {},
   "source": [
    "e.g."
   ]
  },
  {
   "cell_type": "code",
   "execution_count": null,
   "metadata": {},
   "outputs": [],
   "source": [
    "$ wget https://github.com/nuclio/nuclio/releases/download/1.8.14/nuctl-1.8.14-linux-amd64"
   ]
  },
  {
   "cell_type": "code",
   "execution_count": null,
   "metadata": {},
   "outputs": [],
   "source": [
    "$ sudo chmod +x nuctl-1.8.14-linux-amd64"
   ]
  },
  {
   "cell_type": "code",
   "execution_count": null,
   "metadata": {},
   "outputs": [],
   "source": [
    "$ sudo ln -sf $(pwd)/nuctl-1.8.14-linux-amd64 /usr/local/bin/nuctl"
   ]
  },
  {
   "cell_type": "code",
   "execution_count": null,
   "metadata": {},
   "outputs": [],
   "source": [
    "$ nuctl create project cvat"
   ]
  },
  {
   "cell_type": "markdown",
   "metadata": {},
   "source": [
    "`192.168.0.7:8070` to see Nuclio in browser"
   ]
  },
  {
   "attachments": {},
   "cell_type": "markdown",
   "metadata": {},
   "source": [
    "upload images in a new task"
   ]
  },
  {
   "attachments": {},
   "cell_type": "markdown",
   "metadata": {},
   "source": [
    "https://cocodataset.org/#download"
   ]
  },
  {
   "attachments": {},
   "cell_type": "markdown",
   "metadata": {},
   "source": [
    "Dextr is an interactor for CVAT to click at least 4 points to semiautomatically annotate polygon masks"
   ]
  },
  {
   "cell_type": "markdown",
   "metadata": {},
   "source": [
    "2023/07/15 use the following updated in the official manual"
   ]
  },
  {
   "cell_type": "code",
   "execution_count": null,
   "metadata": {},
   "outputs": [],
   "source": [
    "$ ./serverless/deploy_cpu.sh serverless/openvino/dextr"
   ]
  },
  {
   "cell_type": "code",
   "execution_count": null,
   "metadata": {},
   "outputs": [],
   "source": [
    "$ nuctl deploy --project-name cvat \\\n",
    "  --path serverless/openvino/dextr/nuclio \\\n",
    "  --volume `pwd`/serverless/common:/opt/nuclio/common \\\n",
    "  --platform local"
   ]
  },
  {
   "attachments": {},
   "cell_type": "markdown",
   "metadata": {},
   "source": [
    "`\\\\wsl$` in explorer bar to find file quickly rather than `cd` or `ls` in Linux or Ubuntu 20.04 command line"
   ]
  },
  {
   "attachments": {},
   "cell_type": "markdown",
   "metadata": {},
   "source": [
    "\\\\wsl.localhost\\Ubuntu-20.04\\home\\rw\\cvat\\serverless\\openvino\\dextr\\nuclio\\function.yml"
   ]
  },
  {
   "attachments": {},
   "cell_type": "markdown",
   "metadata": {},
   "source": [
    "add port: 32001 and add network: cvat_cvat"
   ]
  },
  {
   "attachments": {},
   "cell_type": "markdown",
   "metadata": {},
   "source": [
    "```\n",
    "  triggers:\n",
    "    myHttpTrigger:\n",
    "      maxWorkers: 2\n",
    "      kind: 'http'\n",
    "      workerAvailabilityTimeoutMilliseconds: 10000\n",
    "      attributes:\n",
    "        maxRequestBodySize: 33554432 # 32MB\n",
    "        port: 32001\n",
    "\n",
    "  platform:\n",
    "    attributes:\n",
    "      restartPolicy:\n",
    "        name: always\n",
    "        maximumRetryCount: 3\n",
    "      mountMode: volume\n",
    "      network: cvat_cvat\n",
    "```"
   ]
  },
  {
   "cell_type": "code",
   "execution_count": null,
   "metadata": {},
   "outputs": [],
   "source": [
    "$ ./serverless/deploy_cpu.sh serverless/openvino/omz/public/yolo-v3-tf"
   ]
  },
  {
   "cell_type": "code",
   "execution_count": null,
   "metadata": {},
   "outputs": [],
   "source": [
    "$ nuctl deploy --project-name cvat \\\n",
    "  --path serverless/openvino/omz/public/yolo-v3-tf/nuclio \\\n",
    "  --volume `pwd`/serverless/common:/opt/nuclio/common \\\n",
    "  --platform local"
   ]
  },
  {
   "attachments": {},
   "cell_type": "markdown",
   "metadata": {},
   "source": [
    "YOLOv3 is a detector for CVAT to automatic annotate a full task"
   ]
  },
  {
   "attachments": {},
   "cell_type": "markdown",
   "metadata": {},
   "source": [
    "\\\\wsl.localhost\\Ubuntu-20.04\\home\\rw\\cvat\\serverless\\openvino\\omz\\public\\yolo-v3-tf\\nuclio\\function.yml"
   ]
  },
  {
   "attachments": {},
   "cell_type": "markdown",
   "metadata": {},
   "source": [
    "add port: 32002 and add network: cvat_cvat"
   ]
  },
  {
   "attachments": {},
   "cell_type": "markdown",
   "metadata": {},
   "source": [
    "port need to be different from the already existing nuclio function(s)"
   ]
  },
  {
   "attachments": {},
   "cell_type": "markdown",
   "metadata": {},
   "source": [
    "```\n",
    "  triggers:\n",
    "    myHttpTrigger:\n",
    "      maxWorkers: 2\n",
    "      kind: 'http'\n",
    "      workerAvailabilityTimeoutMilliseconds: 10000\n",
    "      attributes:\n",
    "        maxRequestBodySize: 33554432 # 32MB\n",
    "        port: 32002\n",
    "\n",
    "  platform:\n",
    "    attributes:\n",
    "      restartPolicy:\n",
    "        name: always\n",
    "        maximumRetryCount: 3\n",
    "      mountMode: volume\n",
    "      network: cvat_cvat\n",
    "```"
   ]
  },
  {
   "cell_type": "code",
   "execution_count": null,
   "metadata": {},
   "outputs": [],
   "source": [
    "$ sudo ufw allow proto tcp from any to 172.17.0.1"
   ]
  },
  {
   "attachments": {},
   "cell_type": "markdown",
   "metadata": {},
   "source": [
    "if not adding those two parameters to function.yml or executing the above lines, models will be broken after restarting the computer, and need to be deleted and reinstall those models\n",
    "\n",
    "https://github.com/opencv/cvat/issues/2189"
   ]
  },
  {
   "cell_type": "code",
   "execution_count": null,
   "metadata": {},
   "outputs": [],
   "source": [
    "$ docker compose -f docker-compose.yml -f components/serverless/docker-compose.serverless.yml up -d"
   ]
  },
  {
   "cell_type": "markdown",
   "metadata": {},
   "source": [
    "Meta FaceBookResearch SAM to segment anything"
   ]
  },
  {
   "cell_type": "code",
   "execution_count": null,
   "metadata": {},
   "outputs": [],
   "source": [
    "$ cd cvat\n",
    "$ ./serverless/deploy_gpu.sh serverless/pytorch/facebookresearch/sam"
   ]
  },
  {
   "cell_type": "markdown",
   "metadata": {},
   "source": [
    "or"
   ]
  },
  {
   "cell_type": "code",
   "execution_count": null,
   "metadata": {},
   "outputs": [],
   "source": [
    "$ cd cvat\n",
    "$ ./serverless/deploy_gpu.sh serverless/pytorch/facebookresearch/sam/nuclio"
   ]
  },
  {
   "cell_type": "markdown",
   "metadata": {},
   "source": [
    "or"
   ]
  },
  {
   "cell_type": "code",
   "execution_count": null,
   "metadata": {},
   "outputs": [],
   "source": [
    "$ cd cvat\n",
    "$ cd serverless\n",
    "$ ./deploy_gpu.sh pytorch/facebookresearch/sam/nuclio"
   ]
  },
  {
   "cell_type": "markdown",
   "metadata": {},
   "source": [
    "However, only the localhost or local machine can use SAM locally, but the remote machine cannot\n",
    "\n",
    "```\n",
    "Interaction error occurred\n",
    "Request failed with status code 500. \n",
    "\"500 Server Error. Internal Server Error for url:\n",
    "http://host.docker.internal:32003/\".\n",
    "```"
   ]
  },
  {
   "attachments": {},
   "cell_type": "markdown",
   "metadata": {},
   "source": [
    "https://opencv.github.io/cvat/docs/manual/advanced/models/"
   ]
  },
  {
   "attachments": {},
   "cell_type": "markdown",
   "metadata": {},
   "source": [
    "if wanting to deploy our own models, should check the following complete tutorial"
   ]
  },
  {
   "attachments": {},
   "cell_type": "markdown",
   "metadata": {},
   "source": [
    "https://opencv.github.io/cvat/docs/manual/advanced/serverless-tutorial/"
   ]
  }
 ],
 "metadata": {
  "language_info": {
   "name": "python"
  },
  "orig_nbformat": 4
 },
 "nbformat": 4,
 "nbformat_minor": 2
}
